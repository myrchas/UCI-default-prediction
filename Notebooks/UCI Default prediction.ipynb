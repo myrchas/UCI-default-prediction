{
 "cells": [
  {
   "cell_type": "markdown",
   "id": "enabling-bikini",
   "metadata": {},
   "source": [
    "## To do:\n",
    " * Build custom transformers to push the data through the preprocessing pipeline\n",
    " * Split the data into training and test sets \n",
    " * Perform a grid search and choose best models using CV\n",
    " * Compare models"
   ]
  },
  {
   "cell_type": "code",
   "execution_count": 31,
   "id": "naughty-oakland",
   "metadata": {},
   "outputs": [],
   "source": [
    "import pandas as pd\n",
    "import numpy as np\n",
    "import warnings\n",
    "from sklearn.base import BaseEstimator, TransformerMixin\n",
    "from sklearn.pipeline import FeatureUnion, Pipeline\n",
    "from sklearn.preprocessing import OneHotEncoder, StandardScaler\n",
    "from sklearn.impute import SimpleImputer\n",
    "from matplotlib import pyplot as plt\n",
    "\n",
    "warnings.filterwarnings('ignore')\n",
    "%matplotlib inline"
   ]
  },
  {
   "cell_type": "code",
   "execution_count": 10,
   "id": "removed-english",
   "metadata": {},
   "outputs": [
    {
     "data": {
      "text/html": [
       "<div>\n",
       "<style scoped>\n",
       "    .dataframe tbody tr th:only-of-type {\n",
       "        vertical-align: middle;\n",
       "    }\n",
       "\n",
       "    .dataframe tbody tr th {\n",
       "        vertical-align: top;\n",
       "    }\n",
       "\n",
       "    .dataframe thead th {\n",
       "        text-align: right;\n",
       "    }\n",
       "</style>\n",
       "<table border=\"1\" class=\"dataframe\">\n",
       "  <thead>\n",
       "    <tr style=\"text-align: right;\">\n",
       "      <th></th>\n",
       "      <th>ID</th>\n",
       "      <th>LIMIT_BAL</th>\n",
       "      <th>SEX</th>\n",
       "      <th>EDUCATION</th>\n",
       "      <th>MARRIAGE</th>\n",
       "      <th>AGE</th>\n",
       "      <th>PAY_0</th>\n",
       "      <th>PAY_2</th>\n",
       "      <th>PAY_3</th>\n",
       "      <th>PAY_4</th>\n",
       "      <th>...</th>\n",
       "      <th>BILL_AMT4</th>\n",
       "      <th>BILL_AMT5</th>\n",
       "      <th>BILL_AMT6</th>\n",
       "      <th>PAY_AMT1</th>\n",
       "      <th>PAY_AMT2</th>\n",
       "      <th>PAY_AMT3</th>\n",
       "      <th>PAY_AMT4</th>\n",
       "      <th>PAY_AMT5</th>\n",
       "      <th>PAY_AMT6</th>\n",
       "      <th>default.payment.next.month</th>\n",
       "    </tr>\n",
       "  </thead>\n",
       "  <tbody>\n",
       "    <tr>\n",
       "      <th>count</th>\n",
       "      <td>30000.000000</td>\n",
       "      <td>30000.000000</td>\n",
       "      <td>30000.000000</td>\n",
       "      <td>30000.000000</td>\n",
       "      <td>30000.000000</td>\n",
       "      <td>30000.000000</td>\n",
       "      <td>30000.000000</td>\n",
       "      <td>30000.000000</td>\n",
       "      <td>30000.000000</td>\n",
       "      <td>30000.000000</td>\n",
       "      <td>...</td>\n",
       "      <td>30000.000000</td>\n",
       "      <td>30000.000000</td>\n",
       "      <td>30000.000000</td>\n",
       "      <td>30000.000000</td>\n",
       "      <td>3.000000e+04</td>\n",
       "      <td>30000.00000</td>\n",
       "      <td>30000.000000</td>\n",
       "      <td>30000.000000</td>\n",
       "      <td>30000.000000</td>\n",
       "      <td>30000.000000</td>\n",
       "    </tr>\n",
       "    <tr>\n",
       "      <th>mean</th>\n",
       "      <td>15000.500000</td>\n",
       "      <td>167484.322667</td>\n",
       "      <td>1.603733</td>\n",
       "      <td>1.853133</td>\n",
       "      <td>1.551867</td>\n",
       "      <td>35.485500</td>\n",
       "      <td>-0.016700</td>\n",
       "      <td>-0.133767</td>\n",
       "      <td>-0.166200</td>\n",
       "      <td>-0.220667</td>\n",
       "      <td>...</td>\n",
       "      <td>43262.948967</td>\n",
       "      <td>40311.400967</td>\n",
       "      <td>38871.760400</td>\n",
       "      <td>5663.580500</td>\n",
       "      <td>5.921163e+03</td>\n",
       "      <td>5225.68150</td>\n",
       "      <td>4826.076867</td>\n",
       "      <td>4799.387633</td>\n",
       "      <td>5215.502567</td>\n",
       "      <td>0.221200</td>\n",
       "    </tr>\n",
       "    <tr>\n",
       "      <th>std</th>\n",
       "      <td>8660.398374</td>\n",
       "      <td>129747.661567</td>\n",
       "      <td>0.489129</td>\n",
       "      <td>0.790349</td>\n",
       "      <td>0.521970</td>\n",
       "      <td>9.217904</td>\n",
       "      <td>1.123802</td>\n",
       "      <td>1.197186</td>\n",
       "      <td>1.196868</td>\n",
       "      <td>1.169139</td>\n",
       "      <td>...</td>\n",
       "      <td>64332.856134</td>\n",
       "      <td>60797.155770</td>\n",
       "      <td>59554.107537</td>\n",
       "      <td>16563.280354</td>\n",
       "      <td>2.304087e+04</td>\n",
       "      <td>17606.96147</td>\n",
       "      <td>15666.159744</td>\n",
       "      <td>15278.305679</td>\n",
       "      <td>17777.465775</td>\n",
       "      <td>0.415062</td>\n",
       "    </tr>\n",
       "    <tr>\n",
       "      <th>min</th>\n",
       "      <td>1.000000</td>\n",
       "      <td>10000.000000</td>\n",
       "      <td>1.000000</td>\n",
       "      <td>0.000000</td>\n",
       "      <td>0.000000</td>\n",
       "      <td>21.000000</td>\n",
       "      <td>-2.000000</td>\n",
       "      <td>-2.000000</td>\n",
       "      <td>-2.000000</td>\n",
       "      <td>-2.000000</td>\n",
       "      <td>...</td>\n",
       "      <td>-170000.000000</td>\n",
       "      <td>-81334.000000</td>\n",
       "      <td>-339603.000000</td>\n",
       "      <td>0.000000</td>\n",
       "      <td>0.000000e+00</td>\n",
       "      <td>0.00000</td>\n",
       "      <td>0.000000</td>\n",
       "      <td>0.000000</td>\n",
       "      <td>0.000000</td>\n",
       "      <td>0.000000</td>\n",
       "    </tr>\n",
       "    <tr>\n",
       "      <th>25%</th>\n",
       "      <td>7500.750000</td>\n",
       "      <td>50000.000000</td>\n",
       "      <td>1.000000</td>\n",
       "      <td>1.000000</td>\n",
       "      <td>1.000000</td>\n",
       "      <td>28.000000</td>\n",
       "      <td>-1.000000</td>\n",
       "      <td>-1.000000</td>\n",
       "      <td>-1.000000</td>\n",
       "      <td>-1.000000</td>\n",
       "      <td>...</td>\n",
       "      <td>2326.750000</td>\n",
       "      <td>1763.000000</td>\n",
       "      <td>1256.000000</td>\n",
       "      <td>1000.000000</td>\n",
       "      <td>8.330000e+02</td>\n",
       "      <td>390.00000</td>\n",
       "      <td>296.000000</td>\n",
       "      <td>252.500000</td>\n",
       "      <td>117.750000</td>\n",
       "      <td>0.000000</td>\n",
       "    </tr>\n",
       "    <tr>\n",
       "      <th>50%</th>\n",
       "      <td>15000.500000</td>\n",
       "      <td>140000.000000</td>\n",
       "      <td>2.000000</td>\n",
       "      <td>2.000000</td>\n",
       "      <td>2.000000</td>\n",
       "      <td>34.000000</td>\n",
       "      <td>0.000000</td>\n",
       "      <td>0.000000</td>\n",
       "      <td>0.000000</td>\n",
       "      <td>0.000000</td>\n",
       "      <td>...</td>\n",
       "      <td>19052.000000</td>\n",
       "      <td>18104.500000</td>\n",
       "      <td>17071.000000</td>\n",
       "      <td>2100.000000</td>\n",
       "      <td>2.009000e+03</td>\n",
       "      <td>1800.00000</td>\n",
       "      <td>1500.000000</td>\n",
       "      <td>1500.000000</td>\n",
       "      <td>1500.000000</td>\n",
       "      <td>0.000000</td>\n",
       "    </tr>\n",
       "    <tr>\n",
       "      <th>75%</th>\n",
       "      <td>22500.250000</td>\n",
       "      <td>240000.000000</td>\n",
       "      <td>2.000000</td>\n",
       "      <td>2.000000</td>\n",
       "      <td>2.000000</td>\n",
       "      <td>41.000000</td>\n",
       "      <td>0.000000</td>\n",
       "      <td>0.000000</td>\n",
       "      <td>0.000000</td>\n",
       "      <td>0.000000</td>\n",
       "      <td>...</td>\n",
       "      <td>54506.000000</td>\n",
       "      <td>50190.500000</td>\n",
       "      <td>49198.250000</td>\n",
       "      <td>5006.000000</td>\n",
       "      <td>5.000000e+03</td>\n",
       "      <td>4505.00000</td>\n",
       "      <td>4013.250000</td>\n",
       "      <td>4031.500000</td>\n",
       "      <td>4000.000000</td>\n",
       "      <td>0.000000</td>\n",
       "    </tr>\n",
       "    <tr>\n",
       "      <th>max</th>\n",
       "      <td>30000.000000</td>\n",
       "      <td>1000000.000000</td>\n",
       "      <td>2.000000</td>\n",
       "      <td>6.000000</td>\n",
       "      <td>3.000000</td>\n",
       "      <td>79.000000</td>\n",
       "      <td>8.000000</td>\n",
       "      <td>8.000000</td>\n",
       "      <td>8.000000</td>\n",
       "      <td>8.000000</td>\n",
       "      <td>...</td>\n",
       "      <td>891586.000000</td>\n",
       "      <td>927171.000000</td>\n",
       "      <td>961664.000000</td>\n",
       "      <td>873552.000000</td>\n",
       "      <td>1.684259e+06</td>\n",
       "      <td>896040.00000</td>\n",
       "      <td>621000.000000</td>\n",
       "      <td>426529.000000</td>\n",
       "      <td>528666.000000</td>\n",
       "      <td>1.000000</td>\n",
       "    </tr>\n",
       "  </tbody>\n",
       "</table>\n",
       "<p>8 rows × 25 columns</p>\n",
       "</div>"
      ],
      "text/plain": [
       "                 ID       LIMIT_BAL           SEX     EDUCATION      MARRIAGE  \\\n",
       "count  30000.000000    30000.000000  30000.000000  30000.000000  30000.000000   \n",
       "mean   15000.500000   167484.322667      1.603733      1.853133      1.551867   \n",
       "std     8660.398374   129747.661567      0.489129      0.790349      0.521970   \n",
       "min        1.000000    10000.000000      1.000000      0.000000      0.000000   \n",
       "25%     7500.750000    50000.000000      1.000000      1.000000      1.000000   \n",
       "50%    15000.500000   140000.000000      2.000000      2.000000      2.000000   \n",
       "75%    22500.250000   240000.000000      2.000000      2.000000      2.000000   \n",
       "max    30000.000000  1000000.000000      2.000000      6.000000      3.000000   \n",
       "\n",
       "                AGE         PAY_0         PAY_2         PAY_3         PAY_4  \\\n",
       "count  30000.000000  30000.000000  30000.000000  30000.000000  30000.000000   \n",
       "mean      35.485500     -0.016700     -0.133767     -0.166200     -0.220667   \n",
       "std        9.217904      1.123802      1.197186      1.196868      1.169139   \n",
       "min       21.000000     -2.000000     -2.000000     -2.000000     -2.000000   \n",
       "25%       28.000000     -1.000000     -1.000000     -1.000000     -1.000000   \n",
       "50%       34.000000      0.000000      0.000000      0.000000      0.000000   \n",
       "75%       41.000000      0.000000      0.000000      0.000000      0.000000   \n",
       "max       79.000000      8.000000      8.000000      8.000000      8.000000   \n",
       "\n",
       "       ...      BILL_AMT4      BILL_AMT5      BILL_AMT6       PAY_AMT1  \\\n",
       "count  ...   30000.000000   30000.000000   30000.000000   30000.000000   \n",
       "mean   ...   43262.948967   40311.400967   38871.760400    5663.580500   \n",
       "std    ...   64332.856134   60797.155770   59554.107537   16563.280354   \n",
       "min    ... -170000.000000  -81334.000000 -339603.000000       0.000000   \n",
       "25%    ...    2326.750000    1763.000000    1256.000000    1000.000000   \n",
       "50%    ...   19052.000000   18104.500000   17071.000000    2100.000000   \n",
       "75%    ...   54506.000000   50190.500000   49198.250000    5006.000000   \n",
       "max    ...  891586.000000  927171.000000  961664.000000  873552.000000   \n",
       "\n",
       "           PAY_AMT2      PAY_AMT3       PAY_AMT4       PAY_AMT5  \\\n",
       "count  3.000000e+04   30000.00000   30000.000000   30000.000000   \n",
       "mean   5.921163e+03    5225.68150    4826.076867    4799.387633   \n",
       "std    2.304087e+04   17606.96147   15666.159744   15278.305679   \n",
       "min    0.000000e+00       0.00000       0.000000       0.000000   \n",
       "25%    8.330000e+02     390.00000     296.000000     252.500000   \n",
       "50%    2.009000e+03    1800.00000    1500.000000    1500.000000   \n",
       "75%    5.000000e+03    4505.00000    4013.250000    4031.500000   \n",
       "max    1.684259e+06  896040.00000  621000.000000  426529.000000   \n",
       "\n",
       "            PAY_AMT6  default.payment.next.month  \n",
       "count   30000.000000                30000.000000  \n",
       "mean     5215.502567                    0.221200  \n",
       "std     17777.465775                    0.415062  \n",
       "min         0.000000                    0.000000  \n",
       "25%       117.750000                    0.000000  \n",
       "50%      1500.000000                    0.000000  \n",
       "75%      4000.000000                    0.000000  \n",
       "max    528666.000000                    1.000000  \n",
       "\n",
       "[8 rows x 25 columns]"
      ]
     },
     "execution_count": 10,
     "metadata": {},
     "output_type": "execute_result"
    }
   ],
   "source": [
    "# load the data\n",
    "data = pd.read_csv('C:/Users/mateu/PYTHON/Datasets/UCI_Credit_Card.csv')\n",
    "\n",
    "data.describe()"
   ]
  },
  {
   "cell_type": "code",
   "execution_count": 11,
   "id": "cutting-event",
   "metadata": {},
   "outputs": [],
   "source": [
    "data['y'] = data['default.payment.next.month']\n",
    "data.drop(['ID', 'default.payment.next.month'], axis=1, inplace=True)\n",
    "# First we have to divide the feature set into categorical and numerical"
   ]
  },
  {
   "cell_type": "code",
   "execution_count": 12,
   "id": "turned-orientation",
   "metadata": {},
   "outputs": [],
   "source": [
    "data.describe()\n",
    "X = data.drop('y', axis=1)\n",
    "y = data['y']"
   ]
  },
  {
   "cell_type": "code",
   "execution_count": 13,
   "id": "armed-jungle",
   "metadata": {},
   "outputs": [],
   "source": [
    "predictors = X.columns.tolist()"
   ]
  },
  {
   "cell_type": "code",
   "execution_count": 14,
   "id": "terminal-jaguar",
   "metadata": {},
   "outputs": [
    {
     "name": "stdout",
     "output_type": "stream",
     "text": [
      "Predictors already in the list\n"
     ]
    }
   ],
   "source": [
    "num_predictors = []\n",
    "\n",
    "for var in range(len(predictors)):\n",
    "    current_predictor = predictors[var]\n",
    "    if current_predictor.find('AMT') >= 0 or current_predictor.find('PAY') >= 0:\n",
    "        num_predictors.append(predictors[var])\n",
    "\n",
    "if not 'AGE' in num_predictors and 'LIMIT_BAL' in num_predictors:\n",
    "    num_predictors.extend(['AGE', 'LIMIT_BAL'])\n",
    "else:\n",
    "    print('Predictors already in the list')\n",
    "          \n",
    "cat_predictors = ['SEX', 'MARRIAGE', 'EDUCATION']"
   ]
  },
  {
   "cell_type": "code",
   "execution_count": 15,
   "id": "educated-necessity",
   "metadata": {},
   "outputs": [],
   "source": [
    "# Create a feature selector transformer\n",
    "class FeatureSelector(BaseEstimator, TransformerMixin):\n",
    "    #Class construtror\n",
    "    def __init__(self, feature_names):\n",
    "        self._feature_names = feature_names\n",
    "    \n",
    "    #Noting to do here\n",
    "    def fit(self, X, y=None):\n",
    "        return self\n",
    "        \n",
    "    # Method that describes what the transformer needs to do \n",
    "    def transform(self, X, y=None):\n",
    "        return X[self._feature_names]"
   ]
  },
  {
   "cell_type": "code",
   "execution_count": 16,
   "id": "strategic-scotland",
   "metadata": {},
   "outputs": [],
   "source": [
    "# Transformer that handles categorical predictors\n",
    "\n",
    "#class NumericalTransformer(BaseEstimator, TransformerMixin):\n",
    "\n",
    "\n",
    "num_pipeline = Pipeline(steps=[\n",
    "    ('num_selector', FeatureSelector(num_predictors)),\n",
    "    ('imputer', SimpleImputer(strategy='median')),\n",
    "    ('std_scaler', StandardScaler())])\n",
    "\n",
    "categorical_pipeline = Pipeline(steps=[\n",
    "    ('cat_selector', FeatureSelector(cat_predictors)),\n",
    "    ('one_hot_encoder', OneHotEncoder( sparse = False ))])\n",
    "\n",
    "# Combine both pipelines\n",
    "\n",
    "full_pipeline = FeatureUnion(transformer_list = [\n",
    "    ('categorical_pipeline', categorical_pipeline),\n",
    "    ('numerical_pipeline', num_pipeline)\n",
    "])"
   ]
  },
  {
   "cell_type": "code",
   "execution_count": 17,
   "id": "binary-seafood",
   "metadata": {},
   "outputs": [],
   "source": [
    "# Combine the pipeline with an estimator\n",
    "\n",
    "from sklearn.tree import DecisionTreeClassifier\n",
    "from sklearn.model_selection import train_test_split"
   ]
  },
  {
   "cell_type": "code",
   "execution_count": 18,
   "id": "exceptional-exception",
   "metadata": {},
   "outputs": [],
   "source": [
    "X_train, X_test, y_train, y_test = train_test_split(X, y, test_size = 0.2, random_state=73089)"
   ]
  },
  {
   "cell_type": "code",
   "execution_count": 184,
   "id": "extreme-amsterdam",
   "metadata": {},
   "outputs": [],
   "source": [
    "full_pipeline_m = Pipeline(steps=[\n",
    "    ('full_pipeline', full_pipeline),\n",
    "    ('model', DecisionTreeClassifier())\n",
    "])"
   ]
  },
  {
   "cell_type": "code",
   "execution_count": 185,
   "id": "weekly-relation",
   "metadata": {},
   "outputs": [],
   "source": [
    "full_pipeline_m.fit(X_train, y_train)\n",
    "\n",
    "y_pred = full_pipeline_m.predict(X_test)"
   ]
  },
  {
   "cell_type": "code",
   "execution_count": 19,
   "id": "located-pipeline",
   "metadata": {},
   "outputs": [
    {
     "ename": "NameError",
     "evalue": "name 'y_pred' is not defined",
     "output_type": "error",
     "traceback": [
      "\u001b[1;31m---------------------------------------------------------------------------\u001b[0m",
      "\u001b[1;31mNameError\u001b[0m                                 Traceback (most recent call last)",
      "\u001b[1;32m<ipython-input-19-3b0e7cbbd310>\u001b[0m in \u001b[0;36m<module>\u001b[1;34m\u001b[0m\n\u001b[0;32m      1\u001b[0m \u001b[1;32mfrom\u001b[0m \u001b[0msklearn\u001b[0m \u001b[1;32mimport\u001b[0m \u001b[0mmetrics\u001b[0m\u001b[1;33m\u001b[0m\u001b[1;33m\u001b[0m\u001b[0m\n\u001b[1;32m----> 2\u001b[1;33m \u001b[0mmetrics\u001b[0m\u001b[1;33m.\u001b[0m\u001b[0maccuracy_score\u001b[0m\u001b[1;33m(\u001b[0m\u001b[0my_test\u001b[0m\u001b[1;33m,\u001b[0m \u001b[0my_pred\u001b[0m\u001b[1;33m)\u001b[0m\u001b[1;33m\u001b[0m\u001b[1;33m\u001b[0m\u001b[0m\n\u001b[0m",
      "\u001b[1;31mNameError\u001b[0m: name 'y_pred' is not defined"
     ]
    }
   ],
   "source": [
    "from sklearn import metrics\n",
    "metrics.accuracy_score(y_test, y_pred)"
   ]
  },
  {
   "cell_type": "markdown",
   "id": "restricted-southwest",
   "metadata": {},
   "source": [
    "# Select estimators and the list of hyperparameters and perform a grid search\n",
    " * Logistic regression\n",
    " * Decision tree\n",
    " * K-nearest neighbors"
   ]
  },
  {
   "cell_type": "code",
   "execution_count": 84,
   "id": "sticky-grant",
   "metadata": {},
   "outputs": [],
   "source": [
    "# load additional libraries\n",
    "from sklearn.model_selection import learning_curve, train_test_split,GridSearchCV\n",
    "from sklearn.pipeline import make_pipeline\n",
    "from sklearn.metrics import accuracy_score, mean_absolute_error, classification_report, confusion_matrix, f1_score, roc_curve, roc_auc_score\n",
    "from sklearn.linear_model import LogisticRegression, Perceptron\n",
    "from sklearn.neighbors import KNeighborsClassifier\n",
    "import seaborn as sns\n",
    "from numpy import bincount, linspace, mean, std, arange, squeeze\n",
    "import itertools, time, datetime"
   ]
  },
  {
   "cell_type": "code",
   "execution_count": null,
   "id": "experimental-collector",
   "metadata": {},
   "outputs": [],
   "source": [
    "# As data have been already split into training and test sets, we will use\n",
    "# the training set to perform a grid search"
   ]
  },
  {
   "cell_type": "code",
   "execution_count": 21,
   "id": "superior-transmission",
   "metadata": {},
   "outputs": [],
   "source": [
    "from numpy import linspace, mean, std\n",
    "\n",
    "def plotLearningCurve(_x_train, _y_train, learning_model_pipeline,  k_fold = 10, training_sample_sizes = linspace(0.1,1.0,10), jobsInParallel = 1):\n",
    "    \n",
    "    training_size, training_score, testing_score = learning_curve(estimator = learning_model_pipeline, \\\n",
    "                                                                  X = _x_train, \\\n",
    "                                                                  y = _y_train, \\\n",
    "                                                                  train_sizes = training_sample_sizes, \\\n",
    "                                                                  cv = k_fold, \\\n",
    "                                                                  n_jobs = jobsInParallel) \n",
    "\n",
    "    training_mean = mean(training_score, axis = 1)\n",
    "    training_std_deviation = std(training_score, axis = 1)\n",
    "    testing_std_deviation = std(testing_score, axis = 1)\n",
    "    testing_mean = mean(testing_score, axis = 1 )\n",
    "\n",
    "    plt.plot(training_size, training_mean, label= \"Training Data\", marker= '+', color = 'blue', markersize = 8)\n",
    "    plt.fill_between(training_size, training_mean+ training_std_deviation, training_mean-training_std_deviation, color='blue', alpha =0.12 )\n",
    "\n",
    "    plt.plot(training_size, testing_mean, label= \"Testing/Validation Data\", marker= '*', color = 'green', markersize = 8)\n",
    "    plt.fill_between(training_size, testing_mean + testing_std_deviation, testing_mean - testing_std_deviation, \n",
    "                      color='green', alpha =0.14 )\n",
    "\n",
    "    plt.title(\"Scoring of our training and testing data vs sample sizes\")\n",
    "    plt.xlabel(\"Number of Samples\")\n",
    "    plt.ylabel(\"Accuracy\")\n",
    "    plt.legend(loc= 'best')\n",
    "    plt.show()"
   ]
  },
  {
   "cell_type": "code",
   "execution_count": 22,
   "id": "manufactured-hunger",
   "metadata": {},
   "outputs": [],
   "source": [
    "# Run grid search and predict\n",
    "\n",
    "def runGridSearchAndPredict(pipeline, x_train, y_train, x_test, y_test, param_grid, n_jobs = 1, cv = 10, score = 'accuracy'):\n",
    "    \n",
    "    response = {}\n",
    "    #training_timer       = CodeTimer('training')\n",
    "    #testing_timer        = CodeTimer('testing')\n",
    "    #learning_curve_timer = CodeTimer('learning_curve')\n",
    "    #predict_proba_timer  = CodeTimer('predict_proba')\n",
    "    \n",
    "    #with training_timer:\n",
    "    # pipeline is used as an estimator here\n",
    "    gridsearch = GridSearchCV(estimator = pipeline, param_grid = param_grid, cv = cv, n_jobs = n_jobs, scoring = score)\n",
    "\n",
    "    search = gridsearch.fit(x_train,y_train)\n",
    "\n",
    "    print(\"Grid Search Best parameters \", search.best_params_)\n",
    "    print(\"Grid Search Best score \", search.best_score_)\n",
    "            \n",
    "    #with testing_timer:\n",
    "    y_prediction = gridsearch.predict(x_test)\n",
    "            \n",
    "    print(\"Accuracy score %s\" %accuracy_score(y_test,y_prediction))\n",
    "    print(\"F1 score %s\" %f1_score(y_test,y_prediction))\n",
    "    print(\"Classification report  \\n %s\" %(classification_report(y_test, y_prediction)))\n",
    "    \n",
    "    #with learning_curve_timer:\n",
    "     #   plotLearningCurve(_x_train, _y_train, search.best_estimator_)\n",
    "    plotLearningCurve(x_train, y_train, search.best_estimator_)\n",
    "    \n",
    "    #with predict_proba_timer:\n",
    "    if hasattr(gridsearch.best_estimator_, 'predict_proba'):\n",
    "            \n",
    "        y_probability = gridsearch.predict_proba(x_test)\n",
    "        false_positive_rate, true_positive_rate, thresholds = roc_curve(y_test, y_probability[:,1])\n",
    "        response['roc_auc_score'] = roc_auc_score(y_test, y_probability[:,1])\n",
    "        response['roc_curve'] = (false_positive_rate, true_positive_rate)\n",
    "    \n",
    "    else: ## eg SVM, Perceptron doesnt have predict_proba method\n",
    "            \n",
    "        response['roc_auc_score'] = 0\n",
    "        response['roc_curve'] = None\n",
    "    \n",
    "    #response['learning_curve_time'] = learning_curve_timer.took\n",
    "    #response['testing_time'] = testing_timer.took\n",
    "    #response['training_time'] = training_timer.took\n",
    "    response['_y_prediction'] = y_prediction\n",
    "    response['accuracy_score'] = accuracy_score(y_test, y_prediction)\n",
    "    response['f1_score']  = f1_score(y_test, y_prediction)\n",
    "\n",
    "    return response\n",
    "    "
   ]
  },
  {
   "cell_type": "code",
   "execution_count": 90,
   "id": "alien-bidder",
   "metadata": {},
   "outputs": [],
   "source": [
    "# create a list of classifiers and a dictionary of classifiers and parameters to evaluate\n",
    "classifiers = [\n",
    "    Perceptron(random_state = 1),\n",
    "    LogisticRegression(random_state = 1),\n",
    "    DecisionTreeClassifier(random_state = 1, criterion = 'gini')\n",
    "  #  KNeighborsClassifier(metric = 'minkowski')\n",
    "  #  RandomForestClassifier(random_state = 1, criterion = 'gini'),\n",
    "  #  SVC(random_state = 1, kernel = 'rbf'),    \n",
    "]\n",
    "\n",
    "\n",
    "classifier_names = [\n",
    "            'perceptron',\n",
    "            'logisticregression',\n",
    "            'decisiontreeclassifier'\n",
    "            #'kneighborsclassifier'\n",
    "    #   'randomforestclassifier',\n",
    "         #   'svc',               \n",
    "]\n",
    "\n",
    "\n",
    "classifier_param_grid = [\n",
    "            \n",
    "            {'max_iter': [1,5,8,10], 'eta0': [0.5,.4, .2, .1]},\n",
    "            {'C':[100,200,300,50,20,600]},\n",
    "            {'max_depth':[6,7,8,9,10,11]}\n",
    "      #      {'n_neighbors':[4,6,7,8]}\n",
    "      #     {'randomforestclassifier__n_estimators':[1,2,3,5,6]},\n",
    "      #     {'svc__C':[1], 'svc__gamma':[0.01]}\n",
    "]"
   ]
  },
  {
   "cell_type": "code",
   "execution_count": 40,
   "id": "according-estate",
   "metadata": {},
   "outputs": [],
   "source": [
    "#or model, model_name, param_grid in zip(classifiers, classifier_names, classifier_param_grid):\n",
    "# Preprocess the data and store them for modelling\n",
    "\n",
    "full_pipeline.fit(X_test, y_test)\n",
    "full_pipeline.fit(X_train, y_train)\n",
    "_X_train = full_pipeline.transform(X_train)\n",
    "_X_test = full_pipeline.transform(X_test)\n",
    "\n",
    "# we want these actions to be performed by the runGridSearch function"
   ]
  },
  {
   "cell_type": "code",
   "execution_count": 39,
   "id": "placed-trust",
   "metadata": {},
   "outputs": [
    {
     "data": {
      "text/plain": [
       "GridSearchCV(cv=10,\n",
       "             estimator=Pipeline(steps=[('StandardScaler', StandardScaler()),\n",
       "                                       ('kneighborsclassifier',\n",
       "                                        KNeighborsClassifier())]),\n",
       "             n_jobs=1,\n",
       "             param_grid={'kneighborsclassifier__n_neighbors': [4, 6, 7, 8]},\n",
       "             scoring='accuracy')"
      ]
     },
     "execution_count": 39,
     "metadata": {},
     "output_type": "execute_result"
    }
   ],
   "source": [
    "params = {'kneighborsclassifier__n_neighbors':[4,6,7,8]}\n",
    "\n",
    "\n",
    "# Test pipline \n",
    "\n",
    "test_pipeline = Pipeline(steps=[\n",
    "  ('StandardScaler', StandardScaler()),\n",
    "  ('kneighborsclassifier', KNeighborsClassifier(metric = 'minkowski')) \n",
    "])\n",
    "\n",
    "gridsearch3 = GridSearchCV(estimator = test_pipeline, cv = 10, n_jobs = 1, param_grid = params, scoring = 'accuracy')\n",
    "gridsearch3.fit(X_train, y_train)\n",
    "\n"
   ]
  },
  {
   "cell_type": "code",
   "execution_count": 34,
   "id": "german-terminal",
   "metadata": {},
   "outputs": [
    {
     "data": {
      "text/plain": [
       "array([1, 0, 1, ..., 1, 0, 0], dtype=int64)"
      ]
     },
     "execution_count": 34,
     "metadata": {},
     "output_type": "execute_result"
    }
   ],
   "source": [
    "pipe_fit = full_pipeline_m.fit(X_train, y_train)\n",
    "\n",
    "pipe_fit.predict(X_test)"
   ]
  },
  {
   "cell_type": "code",
   "execution_count": 49,
   "id": "trained-practice",
   "metadata": {},
   "outputs": [
    {
     "data": {
      "text/plain": [
       "{'max_iter': [1, 5, 8, 10], 'perceptron__eta0': [0.5, 0.4, 0.2, 0.1]}"
      ]
     },
     "execution_count": 49,
     "metadata": {},
     "output_type": "execute_result"
    }
   ],
   "source": [
    "#pipe.get_params().keys()\n",
    "classifier_param_grid"
   ]
  },
  {
   "cell_type": "code",
   "execution_count": 92,
   "id": "racial-maryland",
   "metadata": {},
   "outputs": [
    {
     "name": "stdout",
     "output_type": "stream",
     "text": [
      "Grid search best parameters:  {'eta0': 0.5, 'max_iter': 10}\n",
      "Grid search best score: 0.441969631852231\n",
      "Accuracy score 0.764\n",
      "F1 score 0.17960602549246812\n",
      "The estimator does not return probabilities\n",
      "=======================================================\n",
      "Grid search best parameters:  {'C': 100}\n",
      "Grid search best score: 0.354234781420827\n",
      "Accuracy score 0.8041666666666667\n",
      "F1 score 0.35827416712179133\n",
      "roc_auc_score 0.723766704550491\n",
      "=======================================================\n",
      "Grid search best parameters:  {'max_depth': 6}\n",
      "Grid search best score: 0.4564702279099472\n",
      "Accuracy score 0.8131666666666667\n",
      "F1 score 0.4475110892065056\n",
      "roc_auc_score 0.723766704550491\n",
      "=======================================================\n"
     ]
    }
   ],
   "source": [
    "# Use gridsearch function to iterate over models and hyperparameters\n",
    "# For each model type, select the one with the minimal cv error\n",
    "\n",
    "model_metrics = {}\n",
    "\n",
    "for classifier, classifier_name, classifier_param_grid in zip(classifiers, classifier_names, classifier_param_grid):\n",
    "    \n",
    "    model_metrics[classifier_name] = {}\n",
    "    # tune hyperparameters and find best model using CV  \n",
    "    gridsearch = GridSearchCV(estimator = classifier, cv = 10, param_grid = classifier_param_grid, n_jobs = 1, scoring = 'f1')\n",
    "    \n",
    "    search = gridsearch.fit(_X_train, y_train)\n",
    "    \n",
    "    print(\"Grid search best parameters: \", search.best_params_)\n",
    "    print(\"Grid search best score:\", search.best_score_)\n",
    "    \n",
    "    # predict using the best model\n",
    "    y_prediction = gridsearch.predict(_X_test)\n",
    "    \n",
    "    # calculate metrics\n",
    "    print(\"Accuracy score %s\" %accuracy_score(y_test, y_prediction))\n",
    "    print(\"F1 score %s\" %f1_score(y_test, y_prediction))\n",
    "    \n",
    "    if hasattr(gridsearch.best_estimator_, 'predict_proba'):\n",
    "        \n",
    "        y_probability = gridsearch.predict_proba(_X_test)\n",
    "        false_positive_rate, true_positive_rate, thresholds = roc_curve(y_test, y_probability[:,1])\n",
    "        model_metrics[classifier_name]['roc_auc_score'] = roc_auc_score(y_test, y_probability[:, 1])\n",
    "        model_metrics[classifier_name]['roc_curve'] = (false_positive_rate, true_positive_rate)\n",
    "        print('roc_auc_score %s' %roc_auc_score_)\n",
    "    else:\n",
    "        print('The estimator does not return probabilities' )\n",
    "        model_metrics[classifier_name]['roc_auc_score'] = 0\n",
    "        model_metrics[classifier_name]['roc_curve'] = None\n",
    "    print(\"=======================================================\")\n",
    "    #print(classifier, classifier_name, classifier_param_grid)"
   ]
  },
  {
   "cell_type": "code",
   "execution_count": 97,
   "id": "inappropriate-amazon",
   "metadata": {},
   "outputs": [
    {
     "data": {
      "text/plain": [
       "{'roc_auc_score': 0.7518078602592732,\n",
       " 'roc_curve': (array([0.00000000e+00, 6.49772580e-04, 6.49772580e-04, 8.66363439e-04,\n",
       "         2.81568118e-03, 1.12627247e-02, 1.14793156e-02, 1.60277236e-02,\n",
       "         1.73272688e-02, 2.79402209e-02, 3.05393112e-02, 3.16222655e-02,\n",
       "         3.27052198e-02, 3.68204462e-02, 4.15854451e-02, 4.31015811e-02,\n",
       "         4.37513537e-02, 4.41845354e-02, 4.93827160e-02, 4.95993069e-02,\n",
       "         5.17652155e-02, 5.19818064e-02, 6.80095300e-02, 6.93090752e-02,\n",
       "         7.01754386e-02, 7.06086203e-02, 7.38574832e-02, 8.40372536e-02,\n",
       "         8.44704353e-02, 8.90188434e-02, 1.30820879e-01, 1.31254061e-01,\n",
       "         1.46632012e-01, 1.55728828e-01, 1.57028373e-01, 1.64825644e-01,\n",
       "         1.72406324e-01, 1.78904050e-01, 1.79553823e-01, 2.09659952e-01,\n",
       "         2.39332900e-01, 3.76001733e-01, 5.25449426e-01, 5.25449426e-01,\n",
       "         5.25666017e-01, 9.96101365e-01, 9.97400910e-01, 1.00000000e+00]),\n",
       "  array([0.        , 0.00433839, 0.01229212, 0.01373825, 0.02675343,\n",
       "         0.14678236, 0.14678236, 0.1691974 , 0.18293565, 0.25668836,\n",
       "         0.27259581, 0.274765  , 0.28561099, 0.29501085, 0.32827187,\n",
       "         0.3318872 , 0.33550253, 0.3362256 , 0.35213304, 0.35357918,\n",
       "         0.35647144, 0.35791757, 0.39334779, 0.39479393, 0.40491685,\n",
       "         0.40636298, 0.41720897, 0.44251627, 0.44251627, 0.44974693,\n",
       "         0.51916124, 0.52133044, 0.54446855, 0.55314534, 0.55748373,\n",
       "         0.56977585, 0.57411424, 0.57772957, 0.58640636, 0.61966739,\n",
       "         0.63268257, 0.73969631, 0.82140275, 0.82284888, 0.82284888,\n",
       "         0.99132321, 0.99349241, 1.        ]))}"
      ]
     },
     "execution_count": 97,
     "metadata": {},
     "output_type": "execute_result"
    }
   ],
   "source": [
    "# now let's plot roc_curves\n",
    "\n",
    "model_metrics['decisiontreeclassifier']"
   ]
  },
  {
   "cell_type": "code",
   "execution_count": 108,
   "id": "comic-bouquet",
   "metadata": {},
   "outputs": [],
   "source": [
    "roc_curve_input = {}   \n",
    "def plotROCCurveAcrossModels(positive_rates_sequence, label_sequence):\n",
    "    \n",
    "    for plot_values, label_name in zip(positive_rates_sequence, label_sequence):\n",
    "        plt.plot(list(plot_values[0]), list(plot_values[1]), label = 'ROC Curve for model' + label_name)\n",
    "    \n",
    "    plt.plot([0, 1], [0, 1], 'k--', label = 'Random Guessing')\n",
    "    plt.title('ROC Curve Across Models')\n",
    "    plt.xlabel('False Positive Rate')\n",
    "    plt.ylabel('True Positive Rate')\n",
    "    plt.legend(loc = 'best')\n",
    "    plt.show()"
   ]
  },
  {
   "cell_type": "code",
   "execution_count": 117,
   "id": "tamil-recipient",
   "metadata": {},
   "outputs": [
    {
     "data": {
      "image/png": "[encoded data removed]",
      "text/plain": [
       "<Figure size 432x288 with 1 Axes>"
      ]
     },
     "metadata": {
      "needs_background": "light"
     },
     "output_type": "display_data"
    }
   ],
   "source": [
    "roc_curve_input = {}\n",
    "\n",
    "for i, j in enumerate(model_metrics):\n",
    "    if model_metrics[j]['roc_curve']:\n",
    "        roc_curve_input[j] = model_metrics[j]['roc_curve']\n",
    "\n",
    "plotROCCurveAcrossModels(roc_curve_input.values(), roc_curve_input.keys())"
   ]
  },
  {
   "cell_type": "code",
   "execution_count": 179,
   "id": "amber-field",
   "metadata": {},
   "outputs": [
    {
     "data": {
      "text/plain": [
       "array([[4425,  929],\n",
       "       [ 192,  454]], dtype=int64)"
      ]
     },
     "execution_count": 179,
     "metadata": {},
     "output_type": "execute_result"
    }
   ],
   "source": [
    "# classification matrix\n",
    "# Option 1\n",
    "from sklearn.metrics import confusion_matrix\n",
    "y_prediction\n",
    "y_test.values\n",
    "conf_mat = confusion_matrix(y_prediction, y_test.values)\n",
    "\n",
    "#conf_mat\n",
    "\n",
    "y_pred = pd.Series(y_prediction, name='Predicted')\n",
    "y_actu = pd.Series(y_test.values, name='Actual')\n",
    "\n",
    "df_confusion = pd.crosstab(y_actu, y_pred)\n",
    "\n",
    "conf_mat"
   ]
  },
  {
   "cell_type": "code",
   "execution_count": 116,
   "id": "reliable-plaza",
   "metadata": {},
   "outputs": [
    {
     "data": {
      "text/plain": [
       "0"
      ]
     },
     "execution_count": 116,
     "metadata": {},
     "output_type": "execute_result"
    }
   ],
   "source": [
    "model_metrics['perceptron']['roc_auc_score']"
   ]
  },
  {
   "cell_type": "code",
   "execution_count": 180,
   "id": "framed-married",
   "metadata": {},
   "outputs": [
    {
     "data": {
      "text/plain": [
       "array([[1., 0., 0.],\n",
       "       [0., 1., 0.],\n",
       "       [0., 0., 1.]])"
      ]
     },
     "execution_count": 180,
     "metadata": {},
     "output_type": "execute_result"
    }
   ],
   "source": [
    "np.eye(3)"
   ]
  },
  {
   "cell_type": "code",
   "execution_count": 209,
   "id": "moderate-aaron",
   "metadata": {},
   "outputs": [
    {
     "data": {
      "image/png": "[encoded data removed]",
      "text/plain": [
       "<Figure size 432x288 with 1 Axes>"
      ]
     },
     "metadata": {
      "needs_background": "light"
     },
     "output_type": "display_data"
    },
    {
     "data": {
      "image/png": "[encoded data removed]",
      "text/plain": [
       "<Figure size 432x288 with 3 Axes>"
      ]
     },
     "metadata": {
      "needs_background": "light"
     },
     "output_type": "display_data"
    }
   ],
   "source": [
    "#conf_mat[1, 1] / sum(conf_mat[1, :])\n",
    "#np.sum(conf_mat)\n",
    "fig, ax = plt.subplots()\n",
    "\n",
    "fig, (ax1, ax2, ax3) = plt.subplots(nrows= 3, ncols= 1, sharex = True)"
   ]
  },
  {
   "cell_type": "code",
   "execution_count": 222,
   "id": "occupied-gibson",
   "metadata": {},
   "outputs": [
    {
     "data": {
      "text/plain": [
       "array([False, False, False, False, False,  True,  True,  True,  True,\n",
       "        True,  True, False, False, False, False, False, False,  True,\n",
       "        True,  True,  True,  True,  True, False])"
      ]
     },
     "execution_count": 222,
     "metadata": {},
     "output_type": "execute_result"
    }
   ],
   "source": [
    "data.columns.str.find('PAY') == 0"
   ]
  }
 ],
 "metadata": {
  "kernelspec": {
   "display_name": "Python 3",
   "language": "python",
   "name": "python3"
  },
  "language_info": {
   "codemirror_mode": {
    "name": "ipython",
    "version": 3
   },
   "file_extension": ".py",
   "mimetype": "text/x-python",
   "name": "python",
   "nbconvert_exporter": "python",
   "pygments_lexer": "ipython3",
   "version": "3.6.10"
  }
 },
 "nbformat": 4,
 "nbformat_minor": 5
}
